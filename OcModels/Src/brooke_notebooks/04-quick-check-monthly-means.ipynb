{
 "cells": [
  {
   "cell_type": "code",
   "execution_count": 1,
   "id": "974cbc5d-21f0-46d3-8e3b-5b27d6f028ec",
   "metadata": {},
   "outputs": [],
   "source": [
    "import pandas as pd"
   ]
  },
  {
   "cell_type": "code",
   "execution_count": 2,
   "id": "5978a2cb-fa77-40f1-afd3-5fb8a92cc716",
   "metadata": {},
   "outputs": [],
   "source": [
    "# load annual and monthly data\n",
    "mom6_annual = pd.read_csv(\"../../Data/Yellowtail/yellowtail_MOM6.csv\", index_col = \"year\")\n",
    "mom6_monthly = pd.read_csv(\"../../Data/Yellowtail/yellowtail_MOM6_monthly.csv\", index_col = \"year\")"
   ]
  },
  {
   "cell_type": "code",
   "execution_count": 3,
   "id": "1c24792d-531c-4ef7-8cdf-c421db458a3f",
   "metadata": {},
   "outputs": [],
   "source": [
    "# calculate annual mean from monthly data\n",
    "mom6_monthly_annual = mom6_monthly.copy().groupby(\"year\").mean().drop(columns = ['month'])"
   ]
  },
  {
   "cell_type": "code",
   "execution_count": 4,
   "id": "e730b5cc-45a5-4cce-a986-008cbd74c98d",
   "metadata": {},
   "outputs": [
    {
     "data": {
      "text/plain": [
       "MLDpart    0.000001\n",
       "MLDlarv   -0.000001\n",
       "MLDpjuv   -0.000001\n",
       "Tcop       0.000002\n",
       "Tpart     -0.000004\n",
       "XVlarv    -0.000003\n",
       "XVpjuv    -0.000002\n",
       "YVlarv    -0.000004\n",
       "YVpjuv    -0.000007\n",
       "dtype: float64"
      ]
     },
     "execution_count": 4,
     "metadata": {},
     "output_type": "execute_result"
    }
   ],
   "source": [
    "# calculate mean % difference for each variable (should be quite small)\n",
    "((mom6_monthly_annual - mom6_annual) / mom6_annual * 100).mean()"
   ]
  }
 ],
 "metadata": {
  "kernelspec": {
   "display_name": "Python 3 (ipykernel)",
   "language": "python",
   "name": "python3"
  },
  "language_info": {
   "codemirror_mode": {
    "name": "ipython",
    "version": 3
   },
   "file_extension": ".py",
   "mimetype": "text/x-python",
   "name": "python",
   "nbconvert_exporter": "python",
   "pygments_lexer": "ipython3",
   "version": "3.13.2"
  }
 },
 "nbformat": 4,
 "nbformat_minor": 5
}
